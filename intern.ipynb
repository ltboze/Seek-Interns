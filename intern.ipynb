{
 "cells": [
  {
   "cell_type": "code",
   "execution_count": 24,
   "metadata": {},
   "outputs": [],
   "source": [
    "#!/usr/bin/python\n",
    "# -*- coding: UTF-8 -*-\n",
    "import requests\n",
    "import re"
   ]
  },
  {
   "cell_type": "code",
   "execution_count": 63,
   "metadata": {},
   "outputs": [],
   "source": [
    "def find_intern(page=1,keywords=[u'银行',u'证券'],display=True):\n",
    "    url1 = 'https://bbs.pku.edu.cn/v2/'\n",
    "    \n",
    "    for i in range(page):\n",
    "        url = 'https://bbs.pku.edu.cn/v2/thread.php?bid=896&mode=topic'\n",
    "        if (i+1) == 1:\n",
    "            html = requests.get(url).text\n",
    "            titles = re.findall(r'<div class=\"title-cont l\">(.*?)</div>',html,re.S)[6:]\n",
    "        else:\n",
    "            i += 1\n",
    "            url = url+'&page={}'.format(i)\n",
    "            html = requests.get(url).text\n",
    "            titles = re.findall(r'<div class=\"title-cont l\">(.*?)</div>',html,re.S)\n",
    "\n",
    "\n",
    "        links = re.findall(r'<div class=\"list-item-topic list-item\" data-itemid=\"(.*?)\">(.*?)</div>',html,re.S)\n",
    "\n",
    "        title_list = []\n",
    "        link_list = []\n",
    "        for i in range(len(links)):\n",
    "            title = titles[i][titles[i].find('>')+1:]\n",
    "            link_tmp = re.findall(r'<a class=\"link\" href=\"(.*?)\"></a>',links[i][1],re.S)\n",
    "            for y in link_tmp:\n",
    "                link = url1+y[:y.find('amp')]+y[y.find('amp')+4:]\n",
    "            if display:\n",
    "                print 'Title:%s'%title\n",
    "                print link +'\\n'\n",
    "            for keyword in keywords:\n",
    "                if keyword in title:\n",
    "                    title_list.append(title)\n",
    "                    link_list.append(link)\n",
    "\n",
    "    st = ','                \n",
    "    print '*'*60\n",
    "    print u'筛选出含有 *** '+st.join(keywords)+u' *** 的实习信息'\n",
    "    print '*'*60\n",
    "    for t,l in zip(title_list,link_list):\n",
    "        print t\n",
    "        print l + '\\n'"
   ]
  },
  {
   "cell_type": "code",
   "execution_count": 67,
   "metadata": {},
   "outputs": [
    {
     "name": "stdout",
     "output_type": "stream",
     "text": [
      "************************************************************\n",
      "筛选出含有 *** 华泰 *** 的实习信息\n",
      "************************************************************\n",
      "【实习】【华泰金融控股（香港）】境外债券承做实习生\n",
      "https://bbs.pku.edu.cn/v2/post-read.php?bid=896&threadid=17069457\n",
      "\n",
      "【实习】【华泰联合证券】投资银行业务项目实习生\n",
      "https://bbs.pku.edu.cn/v2/post-read.php?bid=896&threadid=17073797\n",
      "\n",
      "Wall time: 924 ms\n"
     ]
    }
   ],
   "source": [
    "if __name__ == '__main__':\n",
    "    %time find_intern(page=4,keywords=[u'华泰'],display=False)"
   ]
  },
  {
   "cell_type": "code",
   "execution_count": null,
   "metadata": {},
   "outputs": [],
   "source": []
  }
 ],
 "metadata": {
  "kernelspec": {
   "display_name": "Python 2",
   "language": "python",
   "name": "python2"
  },
  "language_info": {
   "codemirror_mode": {
    "name": "ipython",
    "version": 2
   },
   "file_extension": ".py",
   "mimetype": "text/x-python",
   "name": "python",
   "nbconvert_exporter": "python",
   "pygments_lexer": "ipython2",
   "version": "2.7.15"
  },
  "latex_envs": {
   "LaTeX_envs_menu_present": true,
   "autoclose": false,
   "autocomplete": true,
   "bibliofile": "biblio.bib",
   "cite_by": "apalike",
   "current_citInitial": 1,
   "eqLabelWithNumbers": true,
   "eqNumInitial": 1,
   "hotkeys": {
    "equation": "Ctrl-E",
    "itemize": "Ctrl-I"
   },
   "labels_anchors": false,
   "latex_user_defs": false,
   "report_style_numbering": false,
   "user_envs_cfg": false
  },
  "toc": {
   "base_numbering": 1,
   "nav_menu": {},
   "number_sections": true,
   "sideBar": true,
   "skip_h1_title": false,
   "title_cell": "Table of Contents",
   "title_sidebar": "Contents",
   "toc_cell": false,
   "toc_position": {},
   "toc_section_display": true,
   "toc_window_display": false
  }
 },
 "nbformat": 4,
 "nbformat_minor": 2
}

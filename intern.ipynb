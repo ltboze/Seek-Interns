{
 "cells": [
  {
   "cell_type": "code",
   "execution_count": 1,
   "metadata": {},
   "outputs": [],
   "source": [
    "import requests\n",
    "import re"
   ]
  },
  {
   "cell_type": "code",
   "execution_count": 10,
   "metadata": {},
   "outputs": [],
   "source": [
    "def find_intern(page=1):\n",
    "    url1 = 'https://bbs.pku.edu.cn/v2/'\n",
    "    if page == 1:\n",
    "        url = 'https://bbs.pku.edu.cn/v2/thread.php?bid=896&mode=topic'\n",
    "        html = requests.get(url).text\n",
    "        titles = re.findall(r'<div class=\"title-cont l\">(.*?)</div>',html,re.S)[6:]\n",
    "    else:\n",
    "        page_tmp = 2\n",
    "        if page_tmp <= page:\n",
    "            url = 'https://bbs.pku.edu.cn/v2/thread.php?bid=896&mode=topic'+'&page={}'.format(page_tmp)\n",
    "            html = requests.get(url).text\n",
    "            titles = re.findall(r'<div class=\"title-cont l\">(.*?)</div>',html,re.S)\n",
    "            page_tmp += 1\n",
    "\n",
    "    links = re.findall(r'<div class=\"list-item-topic list-item\" data-itemid=\"(.*?)\">(.*?)</div>',html,re.S)\n",
    "    \n",
    "    title_list = []\n",
    "    for i in range(len(links)):\n",
    "        title = titles[i][titles[i].find('>')+1:]\n",
    "        link_tmp = re.findall(r'<a class=\"link\" href=\"(.*?)\"></a>',links[i][1],re.S)\n",
    "        for y in link_tmp:\n",
    "            link = url1+y[:y.find('amp')]+y[y.find('amp')+4:]\n",
    "        print 'Title:%s'%title\n",
    "        print link +'\\n'\n",
    "\n",
    "        if u'经理' in title:\n",
    "            title_list.append(title)\n",
    "\n",
    "    print '*'*60\n",
    "    print u'筛选出含有“经理”的实习信息'\n",
    "    print '*'*60\n",
    "    for t in title_list:\n",
    "        print t"
   ]
  },
  {
   "cell_type": "code",
   "execution_count": 11,
   "metadata": {},
   "outputs": [
    {
     "name": "stdout",
     "output_type": "stream",
     "text": [
      "Title:旭辉集团2020届『晨辉计划』暑期招聘简章&nbsp;\n",
      "https://bbs.pku.edu.cn/v2/post-read.php?bid=896&threadid=17073603\n",
      "\n",
      "Title:【实习】中国上市公司协会培训部实习生\n",
      "https://bbs.pku.edu.cn/v2/post-read.php?bid=896&threadid=17076944\n",
      "\n",
      "Title:【实习-海量数据】市场品牌部管培生&amp;负责人\n",
      "https://bbs.pku.edu.cn/v2/post-read.php?bid=896&threadid=17076932\n",
      "\n",
      "Title:【学而思网校】【2020届毕业生实习招聘】\n",
      "https://bbs.pku.edu.cn/v2/post-read.php?bid=896&threadid=17076912\n",
      "\n",
      "Title:【实习】腾讯视频商业化中心实习生招募\n",
      "https://bbs.pku.edu.cn/v2/post-read.php?bid=896&threadid=17076893\n",
      "\n",
      "Title:【实习招聘】微软小冰持续招聘nlp实习生~(转载)\n",
      "https://bbs.pku.edu.cn/v2/post-read.php?bid=896&threadid=17076873\n",
      "\n",
      "Title:复星2019暑期实习生招聘\n",
      "https://bbs.pku.edu.cn/v2/post-read.php?bid=896&threadid=17073447\n",
      "\n",
      "Title:【实习】微软小冰产品经理\n",
      "https://bbs.pku.edu.cn/v2/post-read.php?bid=896&threadid=17076837\n",
      "\n",
      "Title:【实习】网易有道词典国际版-产品经理实习生\n",
      "https://bbs.pku.edu.cn/v2/post-read.php?bid=896&threadid=17076825\n",
      "\n",
      "Title:【实习】中科院自动化所-AI算法实习生\n",
      "https://bbs.pku.edu.cn/v2/post-read.php?bid=896&threadid=17076773\n",
      "\n",
      "Title:紫牛基金投资实习生\n",
      "https://bbs.pku.edu.cn/v2/post-read.php?bid=896&threadid=17076743\n",
      "\n",
      "Title:【实习】北大标识管理办公室实习生招聘\n",
      "https://bbs.pku.edu.cn/v2/post-read.php?bid=896&threadid=17076726\n",
      "\n",
      "Title:【实习】万科产城产办事业部招聘策划推广实习生\n",
      "https://bbs.pku.edu.cn/v2/post-read.php?bid=896&threadid=17069080\n",
      "\n",
      "Title:【实习】【华泰金融控股（香港）】境外债券承做实习\n",
      "https://bbs.pku.edu.cn/v2/post-read.php?bid=896&threadid=17076679\n",
      "\n",
      "Title:【实习】【华泰联合证券】投资银行项目实习生\n",
      "https://bbs.pku.edu.cn/v2/post-read.php?bid=896&threadid=17076673\n",
      "\n",
      "Title:“浦发之星”实习生招募启事&nbsp;\n",
      "https://bbs.pku.edu.cn/v2/post-read.php?bid=896&threadid=17076633\n",
      "\n",
      "Title:网易-自然语言处理实习生\n",
      "https://bbs.pku.edu.cn/v2/post-read.php?bid=896&threadid=17076618\n",
      "\n",
      "Title:【PE实习】海淀国投旗下华海投资实习生招聘\n",
      "https://bbs.pku.edu.cn/v2/post-read.php?bid=896&threadid=17076607\n",
      "\n",
      "Title:【实习】华能信托金融科技实习招聘\n",
      "https://bbs.pku.edu.cn/v2/post-read.php?bid=896&threadid=17076556\n",
      "\n",
      "Title:【实习】产业经济咨询公司招聘研究助理\n",
      "https://bbs.pku.edu.cn/v2/post-read.php?bid=896&threadid=17034632\n",
      "\n",
      "************************************************************\n",
      "筛选出含有“经理”的实习信息\n",
      "************************************************************\n",
      "【实习】微软小冰产品经理\n",
      "【实习】网易有道词典国际版-产品经理实习生\n",
      "CPU times: user 38.7 ms, sys: 8.05 ms, total: 46.7 ms\n",
      "Wall time: 136 ms\n"
     ]
    }
   ],
   "source": [
    "if __name__ == '__main__':\n",
    "    %time find_intern()"
   ]
  },
  {
   "cell_type": "code",
   "execution_count": null,
   "metadata": {},
   "outputs": [],
   "source": []
  }
 ],
 "metadata": {
  "kernelspec": {
   "display_name": "Python 2",
   "language": "python",
   "name": "python2"
  },
  "language_info": {
   "codemirror_mode": {
    "name": "ipython",
    "version": 2
   },
   "file_extension": ".py",
   "mimetype": "text/x-python",
   "name": "python",
   "nbconvert_exporter": "python",
   "pygments_lexer": "ipython2",
   "version": "2.7.13"
  },
  "latex_envs": {
   "LaTeX_envs_menu_present": true,
   "autoclose": false,
   "autocomplete": true,
   "bibliofile": "biblio.bib",
   "cite_by": "apalike",
   "current_citInitial": 1,
   "eqLabelWithNumbers": true,
   "eqNumInitial": 1,
   "hotkeys": {
    "equation": "Ctrl-E",
    "itemize": "Ctrl-I"
   },
   "labels_anchors": false,
   "latex_user_defs": false,
   "report_style_numbering": false,
   "user_envs_cfg": false
  },
  "toc": {
   "base_numbering": 1,
   "nav_menu": {},
   "number_sections": true,
   "sideBar": true,
   "skip_h1_title": false,
   "title_cell": "Table of Contents",
   "title_sidebar": "Contents",
   "toc_cell": false,
   "toc_position": {},
   "toc_section_display": true,
   "toc_window_display": false
  }
 },
 "nbformat": 4,
 "nbformat_minor": 2
}
